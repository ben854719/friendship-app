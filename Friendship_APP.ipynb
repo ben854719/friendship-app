{
  "nbformat": 4,
  "nbformat_minor": 0,
  "metadata": {
    "colab": {
      "provenance": [],
      "cell_execution_strategy": "setup",
      "authorship_tag": "ABX9TyN0al0c/10Q7wKUz2pTlaJu",
      "include_colab_link": true
    },
    "kernelspec": {
      "name": "python3",
      "display_name": "Python 3"
    },
    "language_info": {
      "name": "python"
    }
  },
  "cells": [
    {
      "cell_type": "markdown",
      "metadata": {
        "id": "view-in-github",
        "colab_type": "text"
      },
      "source": [
        "<a href=\"https://colab.research.google.com/github/ben854719/friendship-app/blob/main/Friendship_APP.ipynb\" target=\"_parent\"><img src=\"https://colab.research.google.com/assets/colab-badge.svg\" alt=\"Open In Colab\"/></a>"
      ]
    },
    {
      "cell_type": "code",
      "execution_count": 13,
      "metadata": {
        "colab": {
          "base_uri": "https://localhost:8080/"
        },
        "collapsed": true,
        "id": "0Ry3ex7U9KZm",
        "outputId": "e1fbf511-edf2-4b61-f1c8-0c11cd64b7a1"
      },
      "outputs": [
        {
          "output_type": "stream",
          "name": "stdout",
          "text": [
            "\r0% [Working]\r            \rHit:1 https://cloud.r-project.org/bin/linux/ubuntu jammy-cran40/ InRelease\n",
            "\r0% [Connecting to archive.ubuntu.com] [Connecting to security.ubuntu.com (91.189.91.81)] [Connected \r                                                                                                    \rHit:2 https://developer.download.nvidia.com/compute/cuda/repos/ubuntu2204/x86_64  InRelease\n",
            "Hit:3 http://security.ubuntu.com/ubuntu jammy-security InRelease\n",
            "Hit:4 https://r2u.stat.illinois.edu/ubuntu jammy InRelease\n",
            "Hit:5 http://archive.ubuntu.com/ubuntu jammy InRelease\n",
            "Get:6 http://archive.ubuntu.com/ubuntu jammy-updates InRelease [128 kB]\n",
            "Hit:7 https://ppa.launchpadcontent.net/deadsnakes/ppa/ubuntu jammy InRelease\n",
            "Hit:8 https://ppa.launchpadcontent.net/graphics-drivers/ppa/ubuntu jammy InRelease\n",
            "Hit:9 https://ppa.launchpadcontent.net/ubuntugis/ppa/ubuntu jammy InRelease\n",
            "Get:10 http://archive.ubuntu.com/ubuntu jammy-backports InRelease [127 kB]\n",
            "Fetched 255 kB in 2s (169 kB/s)\n",
            "Reading package lists... Done\n",
            "W: Skipping acquire of configured file 'main/source/Sources' as repository 'https://r2u.stat.illinois.edu/ubuntu jammy InRelease' does not seem to provide it (sources.list entry misspelt?)\n",
            "Reading package lists... Done\n",
            "Building dependency tree... Done\n",
            "Reading state information... Done\n",
            "libboost-all-dev is already the newest version (1.74.0.3ubuntu7).\n",
            "0 upgraded, 0 newly installed, 0 to remove and 20 not upgraded.\n"
          ]
        }
      ],
      "source": [
        "!apt-get update\n",
        "!apt-get install libboost-all-dev"
      ]
    },
    {
      "source": [
        "%%writefile app.cpp\n",
        "#include <iostream>\n",
        "\n",
        "#include \"profile.hpp\"\n",
        "\n",
        "// Create a profile application.\n",
        "\n",
        "Profile::Profile(std::string new_name, int new_age, std::string new_city, std::string new_country, std::string new_pronouns)\n",
        "    : name(new_name), age(new_age), city(new_city), country(new_country), pronouns(new_pronouns) {\n",
        "    if (new_age >= 18) {\n",
        "        age = new_age;\n",
        "    } else {\n",
        "        age = 0;\n",
        "    }\n",
        "}\n",
        "\n",
        "std::string Profile::view_profile() {\n",
        "    std::string bio = \"Name: \" + name;\n",
        "    bio += \"\\nAge: \" + std::to_string(age);\n",
        "    bio += \"\\nPronouns: \" + pronouns;\n",
        "    std::string hobby_string = \"Hobbies:\\n\";\n",
        "\n",
        "    for (std::string hobby : hobbies) {\n",
        "        hobby_string += \" - \" + hobby + \"\\n\";\n",
        "    }\n",
        "\n",
        "    return bio + \"\\n\" + hobby_string;\n",
        "}\n",
        "\n",
        "void Profile::add_hobby(std::string new_hobby) {\n",
        "    hobbies.push_back(new_hobby);\n",
        "}\n",
        "\n",
        "int main() {\n",
        "    Profile eric(\"Eric Nguyen\", 29, \"Montreal\", \"Canada\", \"he/him\");\n",
        "    eric.add_hobby(\"Read books on scientifiction and detective\");\n",
        "    eric.add_hobby(\"Play hockey and basketball\");\n",
        "    eric.add_hobby(\"Listening to podcast on the world news on the economy\");\n",
        "    eric.add_hobby(\"Watch the news on TV\");\n",
        "    std::cout << eric.view_profile();\n",
        "    return 0;\n",
        "}"
      ],
      "cell_type": "code",
      "metadata": {
        "colab": {
          "base_uri": "https://localhost:8080/"
        },
        "id": "IcvBvjwIolFN",
        "outputId": "ddb7e8c8-7742-4aa7-9cd9-7a96e7963d1f"
      },
      "execution_count": 28,
      "outputs": [
        {
          "output_type": "stream",
          "name": "stdout",
          "text": [
            "Overwriting app.cpp\n"
          ]
        }
      ]
    },
    {
      "cell_type": "code",
      "source": [
        "!g++ app.cpp -o app\n",
        "!./app"
      ],
      "metadata": {
        "colab": {
          "base_uri": "https://localhost:8080/"
        },
        "id": "CxvkxTr0owRY",
        "outputId": "990e64e5-4bc0-443b-fdc3-7a1d2aaad344"
      },
      "execution_count": 29,
      "outputs": [
        {
          "output_type": "stream",
          "name": "stdout",
          "text": [
            "Name: Eric Nguyen\n",
            "Age: 29\n",
            "Pronouns: he/him\n",
            "Hobbies:\n",
            " - Read books on scientifiction and detective\n",
            " - Play hockey and basketball\n",
            " - Listening to podcast on the world news on the economy\n",
            " - Watch the news on TV\n"
          ]
        }
      ]
    },
    {
      "source": [
        "%%writefile profile.hpp\n",
        "#include <iostream>\n",
        "#include <string>\n",
        "#include <vector>\n",
        "\n",
        "// Create a profile App.\n",
        "\n",
        "class Profile {\n",
        "public:\n",
        "    Profile(std::string new_name, int new_age, std::string new_city, std::string new_country, std::string new_pronouns);\n",
        "    std::string view_profile();\n",
        "    void add_hobby(std::string new_hobby);\n",
        "\n",
        "private:\n",
        "    std::string name;\n",
        "    int age;\n",
        "    std::string city;\n",
        "    std::string country;\n",
        "    std::string pronouns;\n",
        "    std::vector<std::string> hobbies;\n",
        "};"
      ],
      "cell_type": "code",
      "metadata": {
        "colab": {
          "base_uri": "https://localhost:8080/"
        },
        "id": "jqdZb1p4nx-Y",
        "outputId": "92f240b7-6e1b-4ab3-85b5-13b547fe0a35"
      },
      "execution_count": 32,
      "outputs": [
        {
          "output_type": "stream",
          "name": "stdout",
          "text": [
            "Overwriting profile.hpp\n"
          ]
        }
      ]
    }
  ]
}